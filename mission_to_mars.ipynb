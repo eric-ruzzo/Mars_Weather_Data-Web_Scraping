{
 "cells": [
  {
   "cell_type": "code",
   "execution_count": null,
   "metadata": {},
   "outputs": [],
   "source": [
    "# Import Dependencies\n",
    "\n",
    "from bs4 import BeautifulSoup as bs\n",
    "import pandas as pd\n",
    "import requests\n",
    "from splinter import Browser"
   ]
  },
  {
   "cell_type": "code",
   "execution_count": null,
   "metadata": {},
   "outputs": [],
   "source": [
    "# Save url as a variable\n",
    "\n",
    "url = \"https://mars.nasa.gov/news/\"\n",
    "# Retrieve page with requests\n",
    "\n",
    "response = requests.get(url)\n",
    "\n",
    "# Create and parse BeautifulSoup object\n",
    "\n",
    "soup = bs(response.text, \"html.parser\")\n",
    "\n",
    "# Print to examine results\n",
    "\n",
    "print(soup)"
   ]
  },
  {
   "cell_type": "code",
   "execution_count": null,
   "metadata": {},
   "outputs": [],
   "source": [
    "# Collect latest news title\n",
    "news_title = soup.find(\"div\", class_=\"content_title\").text\n",
    "\n",
    "# Strip whitespace\n",
    "news_title = news_title.strip()\n",
    "\n",
    "# Collect corresponding paragraph text\n",
    "news_p = soup.find(\"div\", class_=\"rollover_description_inner\").text\n",
    "\n",
    "#Strip whitespace\n",
    "news_p = news_p.strip()\n",
    "\n",
    "print(news_title)\n",
    "print(news_p)"
   ]
  },
  {
   "cell_type": "code",
   "execution_count": 30,
   "metadata": {},
   "outputs": [],
   "source": [
    "# Set executable path and browser for splinter\n",
    "executable_path = {'executable_path': 'chromedriver.exe'}\n",
    "browser = Browser('chrome', **executable_path, headless=False)"
   ]
  },
  {
   "cell_type": "code",
   "execution_count": 31,
   "metadata": {},
   "outputs": [],
   "source": [
    "# Visit url using splinter\n",
    "url = \"https://www.jpl.nasa.gov/spaceimages/?search=&category=Mars\"\n",
    "browser.visit(url)\n",
    "\n",
    "# Navigate to images section\n",
    "#button = browser.find_by_css(\"a[class=images]\")\n",
    "#button.click()\n",
    "#button = browser.find_by_css(\"a.outline_button\")\n",
    "#button.click()"
   ]
  },
  {
   "cell_type": "code",
   "execution_count": null,
   "metadata": {},
   "outputs": [],
   "source": [
    "# Choose Mars from list of image categories\n",
    "#mars_imgs = browser.find_option_by_text(\"Mars\").click()"
   ]
  },
  {
   "cell_type": "code",
   "execution_count": 32,
   "metadata": {},
   "outputs": [],
   "source": [
    "# Find featured image\n",
    "featured_img = browser.find_by_css(\"a.button\").first.click()"
   ]
  },
  {
   "cell_type": "code",
   "execution_count": 33,
   "metadata": {},
   "outputs": [],
   "source": [
    "# Navigate to full-size image\n",
    "featured_img = browser.find_link_by_text(\"more info     \").click()"
   ]
  },
  {
   "cell_type": "code",
   "execution_count": 34,
   "metadata": {},
   "outputs": [
    {
     "data": {
      "text/plain": [
       "'https://www.jpl.nasa.gov/spaceimages/images/largesize/PIA15283_hires.jpg'"
      ]
     },
     "execution_count": 34,
     "metadata": {},
     "output_type": "execute_result"
    }
   ],
   "source": [
    "# Save link to full size image as a variable\n",
    "full_size = browser.find_by_css(\"img.main_image\")\n",
    "full_size[\"src\"]"
   ]
  },
  {
   "cell_type": "code",
   "execution_count": 35,
   "metadata": {},
   "outputs": [],
   "source": [
    "featured_image_url = full_size[\"src\"]"
   ]
  },
  {
   "cell_type": "code",
   "execution_count": 36,
   "metadata": {},
   "outputs": [],
   "source": [
    "# Quit browser session\n",
    "browser.quit()"
   ]
  },
  {
   "cell_type": "code",
   "execution_count": null,
   "metadata": {},
   "outputs": [],
   "source": [
    "# Save url as a variable\n",
    "url = \"https://twitter.com/marswxreport?lang=en\"\n",
    "\n",
    "# Retrieve page with requests\n",
    "response = requests.get(url)\n",
    "\n",
    "# Create and parse BeautifulSoup object"
   ]
  }
 ],
 "metadata": {
  "kernelspec": {
   "display_name": "Python 3",
   "language": "python",
   "name": "python3"
  },
  "language_info": {
   "codemirror_mode": {
    "name": "ipython",
    "version": 3
   },
   "file_extension": ".py",
   "mimetype": "text/x-python",
   "name": "python",
   "nbconvert_exporter": "python",
   "pygments_lexer": "ipython3",
   "version": "3.6.7"
  }
 },
 "nbformat": 4,
 "nbformat_minor": 2
}
