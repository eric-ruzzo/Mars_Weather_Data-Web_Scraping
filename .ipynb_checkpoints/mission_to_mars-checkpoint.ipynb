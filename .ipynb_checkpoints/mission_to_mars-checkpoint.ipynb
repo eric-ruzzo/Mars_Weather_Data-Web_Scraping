{
 "cells": [
  {
   "cell_type": "code",
   "execution_count": 1,
   "metadata": {},
   "outputs": [],
   "source": [
    "# Import Dependencies\n",
    "\n",
    "from bs4 import BeautifulSoup as bs\n",
    "import pandas as pd\n",
    "import requests\n",
    "from splinter import Browser"
   ]
  },
  {
   "cell_type": "code",
   "execution_count": 2,
   "metadata": {},
   "outputs": [],
   "source": [
    "# Set executable path and browser for splinter\n",
    "executable_path = {'executable_path': 'chromedriver.exe'}\n",
    "browser = Browser('chrome', **executable_path, headless=False)"
   ]
  },
  {
   "cell_type": "code",
   "execution_count": 3,
   "metadata": {
    "scrolled": false
   },
   "outputs": [],
   "source": [
    "# Save url as a variable\n",
    "url = \"https://mars.nasa.gov/news/\"\n",
    "\n",
    "# Visit url using splinter\n",
    "browser.visit(url)\n",
    "\n",
    "# Save browser contents in html as variable\n",
    "page = browser.html\n",
    "\n",
    "# Create and parse BeautifulSoup object\n",
    "soup = bs(page, \"html.parser\")\n",
    "\n",
    "# Print to examine results\n",
    "#print(soup.prettify())"
   ]
  },
  {
   "cell_type": "code",
   "execution_count": 4,
   "metadata": {},
   "outputs": [
    {
     "name": "stdout",
     "output_type": "stream",
     "text": [
      "NASA Garners 7 Webby Award Nominations\n",
      "Nominees include four JPL projects: the solar system and climate websites, InSight social media, and a 360-degree Earth video. Public voting closes April 18, 2019.\n"
     ]
    }
   ],
   "source": [
    "# Collect latest news title\n",
    "news_title = soup.find(\"div\", class_=\"content_title\").text\n",
    "\n",
    "# Strip whitespace\n",
    "news_title = news_title.strip()\n",
    "\n",
    "# Collect corresponding paragraph text\n",
    "news_p = soup.find(\"div\", class_=\"rollover_description_inner\").text\n",
    "\n",
    "#Strip whitespace\n",
    "news_p = news_p.strip()\n",
    "\n",
    "print(news_title)\n",
    "print(news_p)"
   ]
  },
  {
   "cell_type": "code",
   "execution_count": 5,
   "metadata": {},
   "outputs": [],
   "source": [
    "# Visit url using splinter\n",
    "url = \"https://www.jpl.nasa.gov/spaceimages/?search=&category=Mars\"\n",
    "browser.visit(url)"
   ]
  },
  {
   "cell_type": "code",
   "execution_count": 6,
   "metadata": {},
   "outputs": [],
   "source": [
    "# Find featured image\n",
    "featured_img = browser.find_by_css(\"article.carousel_item\").first"
   ]
  },
  {
   "cell_type": "code",
   "execution_count": 7,
   "metadata": {},
   "outputs": [
    {
     "name": "stdout",
     "output_type": "stream",
     "text": [
      "https://www.jpl.nasa.gov/spaceimages/images/wallpaper/PIA18905-1920x1200.jpg\n"
     ]
    }
   ],
   "source": [
    "# Set base url to concatenate with image url\n",
    "base_url = \"https://www.jpl.nasa.gov\"\n",
    "\n",
    "# Select image reference from featured_img\n",
    "featured_image_url = featured_img[\"style\"]\n",
    "\n",
    "# Split with \" delimiter to remove extra text\n",
    "featured_image_url = featured_image_url.split('\"')[1]\n",
    "\n",
    "# Concatenate with base url to get full url\n",
    "featured_image_url = f\"{base_url}{featured_image_url}\"\n",
    "\n",
    "print(featured_image_url)"
   ]
  },
  {
   "cell_type": "code",
   "execution_count": 8,
   "metadata": {},
   "outputs": [],
   "source": [
    "# Save url as a variable\n",
    "url = \"https://twitter.com/marswxreport?lang=en\"\n",
    "\n",
    "# Visit url using splinter\n",
    "browser.visit(url)\n",
    "\n",
    "# Save html contents as a variable\n",
    "page = browser.html\n",
    "\n",
    "# Create and parse BeautifulSoup object\n",
    "soup = bs(page, \"html.parser\")\n",
    "\n",
    "# Print to examine results\n",
    "#print(soup.prettify())"
   ]
  },
  {
   "cell_type": "code",
   "execution_count": 9,
   "metadata": {},
   "outputs": [],
   "source": [
    "# Find latest mars weather and save as a variable\n",
    "# Link text needs to be removed, so do not include .text in find\n",
    "mars_weather = soup.find(\"p\", class_=\"TweetTextSize\")\n",
    "\n",
    "# Find unwanted link text\n",
    "remove_link = soup.find(\"a\", class_=\"twitter-timeline-link u-hidden\")\n",
    "\n",
    "# Extract link text from mars_weather\n",
    "remove_link.extract()\n",
    "\n",
    "# Convert to text and replace line breaks with spaces\n",
    "mars_weather = mars_weather.text\n",
    "mars_weather = mars_weather.replace(\"\\n\", \" \")\n",
    "\n",
    "#print(mars_weather)"
   ]
  },
  {
   "cell_type": "code",
   "execution_count": 15,
   "metadata": {},
   "outputs": [
    {
     "data": {
      "text/plain": [
       "'<table border=\"1\" class=\"dataframe\">\\n  <thead>\\n    <tr style=\"text-align: right;\">\\n      <th></th>\\n      <th>Value</th>\\n    </tr>\\n    <tr>\\n      <th>Description</th>\\n      <th></th>\\n    </tr>\\n  </thead>\\n  <tbody>\\n    <tr>\\n      <th>Equatorial Diameter:</th>\\n      <td>6,792 km</td>\\n    </tr>\\n    <tr>\\n      <th>Polar Diameter:</th>\\n      <td>6,752 km</td>\\n    </tr>\\n    <tr>\\n      <th>Mass:</th>\\n      <td>6.39 × 10^23 kg (0.11 Earths)</td>\\n    </tr>\\n    <tr>\\n      <th>Moons:</th>\\n      <td>2 (Phobos &amp; Deimos)</td>\\n    </tr>\\n    <tr>\\n      <th>Orbit Distance:</th>\\n      <td>227,943,824 km (1.38 AU)</td>\\n    </tr>\\n    <tr>\\n      <th>Orbit Period:</th>\\n      <td>687 days (1.9 years)</td>\\n    </tr>\\n    <tr>\\n      <th>Surface Temperature:</th>\\n      <td>-87 to -5 °C</td>\\n    </tr>\\n    <tr>\\n      <th>First Record:</th>\\n      <td>2nd millennium BC</td>\\n    </tr>\\n    <tr>\\n      <th>Recorded By:</th>\\n      <td>Egyptian astronomers</td>\\n    </tr>\\n  </tbody>\\n</table>'"
      ]
     },
     "execution_count": 15,
     "metadata": {},
     "output_type": "execute_result"
    }
   ],
   "source": [
    "# Use pandas to scrape Mars facts website\n",
    "url = \"https://space-facts.com/mars/\"\n",
    "tables = pd.read_html(url)[1]\n",
    "\n",
    "# Format dataframe\n",
    "tables = tables.rename(columns = {0: \"Description\", 1: \"Value\"})\n",
    "tables = tables.set_index(\"Description\")\n",
    "\n",
    "# Convert to html\n",
    "html_table = tables.to_html()\n",
    "\n",
    "html_table"
   ]
  },
  {
   "cell_type": "code",
   "execution_count": null,
   "metadata": {},
   "outputs": [],
   "source": [
    "# Save url as a variable\n",
    "\n",
    "url = \"https://astrogeology.usgs.gov/search/results?q=hemisphere+enhanced&k1=target&v1=Mars\"\n",
    "# Retrieve page with requests\n",
    "\n",
    "response = requests.get(url)\n",
    "\n",
    "# Create and parse BeautifulSoup object\n",
    "\n",
    "soup = bs(response.text, \"html.parser\")\n",
    "\n",
    "# Print to examine results\n",
    "\n",
    "#print(soup)"
   ]
  },
  {
   "cell_type": "code",
   "execution_count": 60,
   "metadata": {},
   "outputs": [],
   "source": [
    "#url = \"https://astrogeology.usgs.gov/search/results?q=hemisphere+enhanced&k1=target&v1=Mars\"\n",
    "#browser.visit(url)"
   ]
  },
  {
   "cell_type": "code",
   "execution_count": 61,
   "metadata": {},
   "outputs": [],
   "source": [
    "#links = browser.find_by_css(\"img.thumb\")"
   ]
  },
  {
   "cell_type": "code",
   "execution_count": 59,
   "metadata": {},
   "outputs": [
    {
     "data": {
      "text/plain": [
       "''"
      ]
     },
     "execution_count": 59,
     "metadata": {},
     "output_type": "execute_result"
    }
   ],
   "source": [
    "#links[0].click()"
   ]
  },
  {
   "cell_type": "code",
   "execution_count": 50,
   "metadata": {},
   "outputs": [],
   "source": [
    "#hemisphere_url = browser.find_link_by_text(\"Sample\")"
   ]
  },
  {
   "cell_type": "code",
   "execution_count": 51,
   "metadata": {},
   "outputs": [
    {
     "name": "stdout",
     "output_type": "stream",
     "text": [
      "http://astropedia.astrogeology.usgs.gov/download/Mars/Viking/cerberus_enhanced.tif/full.jpg\n"
     ]
    }
   ],
   "source": [
    "#hemisphere_url =hemisphere_url[\"href\"]"
   ]
  },
  {
   "cell_type": "code",
   "execution_count": 52,
   "metadata": {},
   "outputs": [
    {
     "name": "stdout",
     "output_type": "stream",
     "text": [
      "<splinter.driver.webdriver.WebDriverElement object at 0x00000257B107E9B0>\n",
      "<splinter.driver.webdriver.WebDriverElement object at 0x00000257B107E0F0>\n",
      "<splinter.driver.webdriver.WebDriverElement object at 0x00000257B107E390>\n",
      "<splinter.driver.webdriver.WebDriverElement object at 0x00000257B107E160>\n"
     ]
    }
   ],
   "source": [
    "#hemisphere_urls = []\n",
    "\n",
    "#for link in links:\n",
    "#    link.click()\n",
    "#    hemisphere_url = browser.find_link_by_text(\"Sample\")\n",
    "#    hemisphere_url = hemisphere_url[\"href\"]\n",
    "#    hemisphere_urls.append(hemisphere_url)\n",
    "#    browser.back()\n",
    "#    browser.back()"
   ]
  },
  {
   "cell_type": "code",
   "execution_count": null,
   "metadata": {
    "scrolled": true
   },
   "outputs": [],
   "source": [
    "# Find all divs containing hemisphere image links\n",
    "link_list = soup.find_all(\"a\", class_=\"itemLink\")\n",
    "#link_list"
   ]
  },
  {
   "cell_type": "code",
   "execution_count": null,
   "metadata": {},
   "outputs": [],
   "source": [
    "for item in link_list:\n",
    "    title = item.find(\"img\")\n",
    "    print(title[\"alt\"])"
   ]
  },
  {
   "cell_type": "code",
   "execution_count": null,
   "metadata": {},
   "outputs": [],
   "source": [
    "# Set base url used to create links\n",
    "base_url = \"https://astropedia.astrogeology.usgs.gov/download\"\n",
    "\n",
    "# Extract links from divs\n",
    "cerberus = f\"{base_url}{link_list[0]['href'].replace('/search/map', '')}.tif/full.jpg\"\n",
    "schiaparelli = f\"{base_url}{link_list[1]['href'].replace('/search/map', '')}.tif/full.jpg\"\n",
    "syrtis = f\"{base_url}{link_list[2]['href'].replace('/search/map', '')}.tif/full.jpg\"\n",
    "valles = f\"{base_url}{link_list[3]['href'].replace('/search/map', '')}.tif/full.jpg\"\n",
    "\n",
    "links = [cerberus, schiaparelli, syrtis, valles]\n",
    "titles = []\n",
    "\n",
    "# Loop through soup results to get titles for each hemishphere\n",
    "for item in link_list:\n",
    "    title = item.find(\"img\")\n",
    "    title = title[\"alt\"]\n",
    "    title = title.replace(\" Enhanced thumbnail\", \"\")\n",
    "    titles.append(title)\n",
    "\n",
    "titles"
   ]
  },
  {
   "cell_type": "code",
   "execution_count": null,
   "metadata": {},
   "outputs": [],
   "source": [
    "# Create empty list to store dictionaries for each title and url\n",
    "hemisphere_image_urls = []\n",
    "\n",
    "# Loop through links and titles and add dictionaries to list\n",
    "for item in range(len(links)):\n",
    "    hemisphere_image_urls.append({\"title\": titles[item], \"url\": links[item]})"
   ]
  },
  {
   "cell_type": "code",
   "execution_count": null,
   "metadata": {},
   "outputs": [],
   "source": [
    "# Create dictionary for all Mars data\n",
    "mars_data = {\"headline\": news_title, \"subhead\": news_p, \n",
    "             \"featured\": featured_image_url, \"weather\": mars_weather, \n",
    "             \"table\": html_table, \"hemispheres\": hemisphere_image_urls}"
   ]
  }
 ],
 "metadata": {
  "celltoolbar": "Raw Cell Format",
  "kernelspec": {
   "display_name": "Python 3",
   "language": "python",
   "name": "python3"
  },
  "language_info": {
   "codemirror_mode": {
    "name": "ipython",
    "version": 3
   },
   "file_extension": ".py",
   "mimetype": "text/x-python",
   "name": "python",
   "nbconvert_exporter": "python",
   "pygments_lexer": "ipython3",
   "version": "3.6.7"
  }
 },
 "nbformat": 4,
 "nbformat_minor": 2
}
